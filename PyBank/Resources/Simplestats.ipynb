{
 "cells": [
  {
   "cell_type": "raw",
   "id": "59787a09-4f02-4669-81f8-24f033cf2809",
   "metadata": {},
   "source": [
    "\n",
    "\n",
    "Mean salary\n",
    "Total sum of salaries\n",
    "Maximum salary\n",
    "Minimum salary\n",
    "Count of salaries\n",
    "Median salary\n",
    "Standard deviation of salaries\n",
    "Variance of of salaries\n",
    "\n",
    "import pandas as pd\n",
    "df = pd.read_csv (r'C:\\Users\\Ron\\Desktop\\stats.csv') \n",
    "\n",
    "# block 1 - simple stats\n",
    "mean1 = df['Salary'].mean()\n",
    "sum1 = df['Salary'].sum()\n",
    "max1 = df['Salary'].max()\n",
    "min1 = df['Salary'].min()\n",
    "count1 = df['Salary'].count()\n",
    "median1 = df['Salary'].median() \n",
    "std1 = df['Salary'].std() \n",
    "var1 = df['Salary'].var()  \n",
    "\n",
    "# block 2 - group by\n",
    "groupby_sum1 = df.groupby(['Country']).sum() \n",
    "groupby_count1 = df.groupby(['Country']).count()\n",
    "\n",
    "# print block 1\n",
    "print ('Mean salary: ' + str(mean1))\n",
    "print ('Sum of salaries: ' + str(sum1))\n",
    "print ('Max salary: ' + str(max1))\n",
    "print ('Min salary: ' + str(min1))\n",
    "print ('Count of salaries: ' + str(count1))\n",
    "print ('Median salary: ' + str(median1))\n",
    "print ('Std of salaries: ' + str(std1))\n",
    "print ('Var of salaries: ' + str(var1))\n",
    "\n",
    "# print block 2\n",
    "print ('Sum of values, grouped by the Country: ' + str(groupby_sum1))\n",
    "print ('Count of values, grouped by the Country: ' + str(groupby_count1))"
   ]
  },
  {
   "cell_type": "code",
   "execution_count": null,
   "id": "c95d2a12-013f-4963-84f7-870dba8cf6b7",
   "metadata": {},
   "outputs": [],
   "source": []
  }
 ],
 "metadata": {
  "kernelspec": {
   "display_name": "Python 3",
   "language": "python",
   "name": "python3"
  },
  "language_info": {
   "codemirror_mode": {
    "name": "ipython",
    "version": 3
   },
   "file_extension": ".py",
   "mimetype": "text/x-python",
   "name": "python",
   "nbconvert_exporter": "python",
   "pygments_lexer": "ipython3",
   "version": "3.8.5"
  }
 },
 "nbformat": 4,
 "nbformat_minor": 5
}
