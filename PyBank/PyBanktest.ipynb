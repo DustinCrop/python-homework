{
 "cells": [
  {
   "cell_type": "code",
   "execution_count": 11,
   "id": "3534d961-446e-45b9-b0d2-eb6ab6e0e536",
   "metadata": {},
   "outputs": [
    {
     "name": "stdout",
     "output_type": "stream",
     "text": [
      "        Date  Profit/Losses\n",
      "0   Jan-2010         867884\n",
      "1   Feb-2010         984655\n",
      "2   Mar-2010         322013\n",
      "3   Apr-2010         -69417\n",
      "4   May-2010         310503\n",
      "..       ...            ...\n",
      "81  Oct-2016         102685\n",
      "82  Nov-2016         795914\n",
      "83  Dec-2016          60988\n",
      "84  Jan-2017         138230\n",
      "85  Feb-2017         671099\n",
      "\n",
      "[86 rows x 2 columns]\n"
     ]
    }
   ],
   "source": [
    "# Import pandas library as PD\n",
    "import pandas as pd\n",
    "# id file as df(dataframe) and set path to df file\n",
    "df = pd.read_csv('Resources/budget_data.csv')\n",
    "print(df)"
   ]
  },
  {
   "cell_type": "code",
   "execution_count": null,
   "id": "54363811-8992-4514-a430-df21138339a7",
   "metadata": {},
   "outputs": [],
   "source": [
    "#Find these from the df:The total number of months included in the dataset *The net total amount of Profit/Losses over the entire period.\n",
    "# *The average of the changes in Profit/Losses over the entire period *The greatest increase in profits (date and amount) over the entire period\n",
    "# *The greatest decrease in losses (date and amount) over the entire period"
   ]
  },
  {
   "cell_type": "code",
   "execution_count": null,
   "id": "48803319-ab7d-4c5e-8fb7-262f3a53d21c",
   "metadata": {},
   "outputs": [],
   "source": [
    "#trying sum1 to get total months\n",
    "sum1 = "
   ]
  },
  {
   "cell_type": "code",
   "execution_count": null,
   "id": "cf586209-7c6f-48f8-abbc-97003d16130a",
   "metadata": {},
   "outputs": [],
   "source": []
  }
 ],
 "metadata": {
  "kernelspec": {
   "display_name": "Python 3",
   "language": "python",
   "name": "python3"
  },
  "language_info": {
   "codemirror_mode": {
    "name": "ipython",
    "version": 3
   },
   "file_extension": ".py",
   "mimetype": "text/x-python",
   "name": "python",
   "nbconvert_exporter": "python",
   "pygments_lexer": "ipython3",
   "version": "3.8.5"
  }
 },
 "nbformat": 4,
 "nbformat_minor": 5
}
