{
 "cells": [
  {
   "cell_type": "code",
   "execution_count": 1,
   "id": "3c246ff7-a540-4746-a313-dfed5ed1d198",
   "metadata": {},
   "outputs": [
    {
     "name": "stdout",
     "output_type": "stream",
     "text": [
      "       Date  Profit/Losses\n",
      "0  Jan-2010         867884\n",
      "1  Feb-2010         984655\n",
      "2  Mar-2010         322013\n",
      "3  Apr-2010         -69417\n",
      "4  May-2010         310503\n"
     ]
    }
   ],
   "source": [
    "# Import pandas library as PD\n",
    "import pandas as pd\n",
    "# id file as df(dataframe) and set path to df file\n",
    "df = pd.read_csv('Resources/budget_data.csv')\n",
    "#df is abbrv for DataFrame\n",
    "# print out top 5 lines (or header) of dataframe\n",
    "print(df.head())"
   ]
  },
  {
   "cell_type": "code",
   "execution_count": 2,
   "id": "a47c0fac-1014-463f-a6e0-95ad50e235c0",
   "metadata": {},
   "outputs": [
    {
     "name": "stdout",
     "output_type": "stream",
     "text": [
      "        Date  Profit/Losses\n",
      "81  Oct-2016         102685\n",
      "82  Nov-2016         795914\n",
      "83  Dec-2016          60988\n",
      "84  Jan-2017         138230\n",
      "85  Feb-2017         671099\n"
     ]
    }
   ],
   "source": [
    "#show the bottom 5 lines (or tail) of df\n",
    "print(df.tail())"
   ]
  },
  {
   "cell_type": "code",
   "execution_count": 3,
   "id": "c4967c97-2a92-4d0f-a3b2-c9257df18b5f",
   "metadata": {},
   "outputs": [
    {
     "data": {
      "text/plain": [
       "Date             object\n",
       "Profit/Losses     int64\n",
       "dtype: object"
      ]
     },
     "execution_count": 3,
     "metadata": {},
     "output_type": "execute_result"
    }
   ],
   "source": [
    "#return the datatypes(dtypes) in the DataFrame\n",
    "df.dtypes"
   ]
  },
  {
   "cell_type": "code",
   "execution_count": 4,
   "id": "aaad57fc-1867-41b1-92da-d49382acef7b",
   "metadata": {},
   "outputs": [
    {
     "data": {
      "text/plain": [
       "RangeIndex(start=0, stop=86, step=1)"
      ]
     },
     "execution_count": 4,
     "metadata": {},
     "output_type": "execute_result"
    }
   ],
   "source": [
    "#return the index(row labels) of the DataFrame\n",
    "df.index"
   ]
  },
  {
   "cell_type": "code",
   "execution_count": 5,
   "id": "4efb8910-7d89-4fb2-9252-480f2c835b00",
   "metadata": {},
   "outputs": [
    {
     "data": {
      "text/plain": [
       "Index(['Date', 'Profit/Losses'], dtype='object')"
      ]
     },
     "execution_count": 5,
     "metadata": {},
     "output_type": "execute_result"
    }
   ],
   "source": [
    "#return the column labels of DataFrame\n",
    "df.columns"
   ]
  },
  {
   "cell_type": "code",
   "execution_count": 6,
   "id": "aa1f127e-2683-481e-acee-e84011a5f26e",
   "metadata": {},
   "outputs": [
    {
     "name": "stdout",
     "output_type": "stream",
     "text": [
      "        Date  Profit/Losses\n",
      "0   Jan-2010         867884\n",
      "1   Feb-2010         984655\n",
      "2   Mar-2010         322013\n",
      "3   Apr-2010         -69417\n",
      "4   May-2010         310503\n",
      "..       ...            ...\n",
      "81  Oct-2016         102685\n",
      "82  Nov-2016         795914\n",
      "83  Dec-2016          60988\n",
      "84  Jan-2017         138230\n",
      "85  Feb-2017         671099\n",
      "\n",
      "[86 rows x 2 columns]\n"
     ]
    }
   ],
   "source": [
    "#lets print the whole df now\n",
    "print(df)"
   ]
  },
  {
   "cell_type": "code",
   "execution_count": 7,
   "id": "bbd4177c-2514-46b0-adf2-e7099d4c637f",
   "metadata": {},
   "outputs": [],
   "source": [
    "#Find these from the df:The total number of months included in the dataset *The net total amount of Profit/Losses over the entire period.\n",
    "# *The average of the changes in Profit/Losses over the entire period *The greatest increase in profits (date and amount) over the entire period\n",
    "# *The greatest decrease in losses (date and amount) over the entire period"
   ]
  },
  {
   "cell_type": "code",
   "execution_count": 8,
   "id": "b8a163be-cead-4ab6-9cdd-0de6b8b69148",
   "metadata": {},
   "outputs": [
    {
     "name": "stdout",
     "output_type": "stream",
     "text": [
      "86\n"
     ]
    }
   ],
   "source": [
    "# using count to get total months \n",
    "total_months = df['Date'].count()\n",
    "print(total_months)"
   ]
  },
  {
   "cell_type": "code",
   "execution_count": 9,
   "id": "49ab972b-8bc7-4aeb-b2e2-f66ec9620e3a",
   "metadata": {},
   "outputs": [
    {
     "name": "stdout",
     "output_type": "stream",
     "text": [
      "38382578\n"
     ]
    }
   ],
   "source": [
    "# To find net total amount of Profit/Losses over total period, lets try using the .sum() command\n",
    "total_profitloss = df['Profit/Losses'].sum()\n",
    "print(total_profitloss)"
   ]
  },
  {
   "cell_type": "code",
   "execution_count": 10,
   "id": "bb1e842d-e1e6-4e66-a718-75b1b54507a9",
   "metadata": {},
   "outputs": [
    {
     "name": "stdout",
     "output_type": "stream",
     "text": [
      "446309.0465116279\n"
     ]
    }
   ],
   "source": [
    "#Find the avg of change in Profit/losses over the entire period\n",
    "average = df['Profit/Losses'].mean()\n",
    "print(average)"
   ]
  },
  {
   "cell_type": "code",
   "execution_count": 11,
   "id": "3fa3b2d0-b4e0-4046-ac1d-6548aebd31aa",
   "metadata": {},
   "outputs": [
    {
     "name": "stdout",
     "output_type": "stream",
     "text": [
      "-2315.1176470588234\n"
     ]
    }
   ],
   "source": [
    "#^thats just the average of all the profit/losses values...how do we find the average of *CHANGE? *Answer:Google*\n",
    "df['shifted_column'] = df['Profit/Losses'].shift(1)\n",
    "df['difference'] = df['Profit/Losses'] - df['shifted_column']\n",
    "total_avg_of_profloss = df['difference'].mean()\n",
    "print(total_avg_of_profloss)"
   ]
  },
  {
   "cell_type": "code",
   "execution_count": 12,
   "id": "f4b4faba-18a6-4a49-88be-ffae12feeb66",
   "metadata": {},
   "outputs": [
    {
     "name": "stdout",
     "output_type": "stream",
     "text": [
      "1926159.0 -2196167.0\n"
     ]
    }
   ],
   "source": [
    "#Lets define the greatest increase in prof as gip and the greatest decrease as gdp\n",
    "gip = df['difference'].max()\n",
    "gdp = df['difference'].min()\n",
    "print(gip, gdp)"
   ]
  },
  {
   "cell_type": "code",
   "execution_count": 18,
   "id": "78b74fb2-9d63-43c7-9cd9-e3d881a9beb4",
   "metadata": {},
   "outputs": [],
   "source": [
    "#taking a step back, searching pandas inputs through slack and even google is proving to be a bit convoluded, and class is about to start...\n",
    "import os\n",
    "import csv\n",
    "#setting an os path and output.txt\n",
    "budget_data = os.path.join('PyBank/Resources/budget_data.csv')\n",
    "txt_path = 'output.txt'\n",
    "# found a much simpler layout through my last search\n",
    "#redoing variables and.. everything\n",
    "total_months = 0\n",
    "total_revenue = 0\n",
    "revenue = []\n",
    "previous_revenue = 0\n",
    "month_of_change = []\n",
    "revenue_change = 0\n",
    "greatest_decrease = [\"\", 9999999]\n",
    "greatest_increase = [\"\", 0]\n",
    "revenue_change_list = []\n",
    "revenue_average = 0\n",
    "\n",
    "\n",
    "#open the csv file\n",
    "with open('Resources/budget_data.csv') as csvfile:  \n",
    "    csvreader = csv.DictReader(csvfile)\n",
    "\n",
    "    #Loop through to find total months\n",
    "    for row in csvreader:\n",
    "\n",
    "        #Count the total of months\n",
    "        total_months += 1\n",
    "\n",
    "        #Calculate the total revenue over the entire period\n",
    "        total_revenue = total_revenue + int(row[\"Profit/Losses\"])\n",
    "\n",
    "        #Calculate the average change in revenue between months over the entire period\n",
    "        revenue_change = float(row[\"Profit/Losses\"])- previous_revenue\n",
    "        previous_revenue = float(row[\"Profit/Losses\"])\n",
    "        revenue_change_list = revenue_change_list + [revenue_change]\n",
    "        month_of_change = [month_of_change] + [row[\"Date\"]]\n",
    "       \n",
    "\n",
    "        #The greatest increase in revenue (date and amount) over the entire period\n",
    "        if revenue_change>greatest_increase[1]:\n",
    "            greatest_increase[1]= revenue_change\n",
    "            greatest_increase[0] = row['Date']\n",
    "\n",
    "        #The greatest decrease in revenue (date and amount) over the entire period\n",
    "        if revenue_change<greatest_decrease[1]:\n",
    "            greatest_decrease[1]= revenue_change\n",
    "            greatest_decrease[0] = row['Date']\n",
    "    revenue_average = sum(revenue_change_list)/len(revenue_change_list)\n",
    "\n",
    "#write these changes to \n",
    "with open(txt_path, 'w') as file:\n",
    "    file.write(\"Financial Analysis\\n\")\n",
    "    file.write(\"---------------------\\n\")\n",
    "    file.write(\"Total Months: %d\\n\" % total_months)\n",
    "    file.write(\"Total Revenue: $%d\\n\" % total_revenue)\n",
    "    file.write(\"Average Revenue Change $%d\\n\" % revenue_average)\n",
    "    file.write(\"Greatest Increase in Revenue: %s ($%s)\\n\" % (greatest_increase[0], greatest_increase[1]))\n",
    "    file.write(\"Greatest Decrease in Revenue: %s ($%s)\\n\" % (greatest_decrease[0], greatest_decrease[1]))\n",
    "    "
   ]
  }
 ],
 "metadata": {
  "kernelspec": {
   "display_name": "Python 3",
   "language": "python",
   "name": "python3"
  },
  "language_info": {
   "codemirror_mode": {
    "name": "ipython",
    "version": 3
   },
   "file_extension": ".py",
   "mimetype": "text/x-python",
   "name": "python",
   "nbconvert_exporter": "python",
   "pygments_lexer": "ipython3",
   "version": "3.8.5"
  }
 },
 "nbformat": 4,
 "nbformat_minor": 5
}
